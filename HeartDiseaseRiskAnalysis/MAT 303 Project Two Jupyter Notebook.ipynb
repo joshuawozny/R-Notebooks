{
 "cells": [
  {
   "cell_type": "markdown",
   "metadata": {
    "deletable": false,
    "editable": false
   },
   "source": [
    "# Project Two: Logistic Regression and Random Forests\n",
    "\n",
    "For Project Two, you have been asked to create different models analyzing a Heart Disease data set. Before beginning work on the project, be sure to read through the Project Two Guidelines and Rubric to understand what you need to do and how you will be graded on this assignment. Be sure to carefully review the Project Two Summary Report template, which contains all of the questions that you will need to answer about the regression analyses you are performing.\n",
    "\n",
    "For this project, you will be writing all the scripts yourself. You may reference the textbook and your previous work on the problem sets to help you write the scripts.\n",
    "\n",
    "\n",
    "### Scenario\n",
    "\n",
    "You are a data analyst researching risk factors for heart disease at a university hospital. You have access to a large set of historical data that you can use to analyze patterns between different health indicators (e.g. fasting blood sugar, maximum heart rate, etc.) and the presence of heart disease. You have been asked to create different logistic regression models that predict whether or not a person is at risk for heart disease. A model like this could eventually be used to evaluate medical records and look for risks that might not be obvious to human doctors. You have also been asked to create a classification random forest model to predict the risk of heart disease and a regression random forest model to predict the maximum heart rate achieved.\n",
    "\n",
    "There are several variables in this data set, but you will be working with the following important variables: \n",
    "\n",
    "| <div style=\"text-align: left\"> Variable </div>  |   <div style=\"text-align: left\"> What does it represent? </div> |\n",
    "| -- | --  |\n",
    "| <div style=\"text-align: left\"> age </div> | <div style=\"text-align: left\"> The person's age in years </div> |\n",
    "| <div style=\"text-align: left\"> sex </div> | <div style=\"text-align: left\"> The person's sex (1 = male, 0 = female) </div> |\n",
    "| <div style=\"text-align: left\"> cp </div> | <div style=\"text-align: left\"> The type of chest pain experienced (0=no pain, 1=typical angina, 2=atypical angina, 3=non-anginal pain) </div> |\n",
    "| <div style=\"text-align: left\"> trestbps </div> | <div style=\"text-align: left\"> The person's resting blood pressure </div> |\n",
    "| <div style=\"text-align: left\"> chol </div> | <div style=\"text-align: left\"> The person's cholesterol measurement in mg/dl </div> |\n",
    "| <div style=\"text-align: left\"> fbs </div> | <div style=\"text-align: left\"> The person's fasting blood sugar is greater than 120 mg/dl (1 = true, 0 = false) </div> |\n",
    "| <div style=\"text-align: left\"> restecg </div> | <div style=\"text-align: left\"> Resting electrocardiographic measurement (0=normal, 1=having ST-T wave abnormality, 2=showing probable or definite left ventricular hypertrophy by Estes' criteria) </div> |\n",
    "| <div style=\"text-align: left\"> thalach </div> | <div style=\"text-align: left\"> The person's maximum heart rate achieved </div> |\n",
    "| <div style=\"text-align: left\"> exang </div> | <div style=\"text-align: left\"> Exercise-induced angina (1=yes, 0=no) </div> |\n",
    "| <div style=\"text-align: left\"> oldpeak </div> | <div style=\"text-align: left\"> ST depression induced by exercise relative to rest ('ST' relates to positions on the ECG plot) </div> |\n",
    "| <div style=\"text-align: left\"> slope </div> | <div style=\"text-align: left\"> The slope of the peak exercise ST segment (1=upsloping, 2=flat, 3=downsloping) </div> |\n",
    "| <div style=\"text-align: left\"> ca </div> | <div style=\"text-align: left\"> The number of major vessels (0-3) </div> |\n",
    "| <div style=\"text-align: left\"> target </div> | <div style=\"text-align: left\"> Heart disease (0=no, 1=yes) </div> |\n",
    "\n",
    "**---------------------------------------------------------------------------------------------------------------------------**"
   ]
  },
  {
   "cell_type": "markdown",
   "metadata": {
    "deletable": false,
    "editable": false
   },
   "source": [
    "## Install Libraries\n",
    "In the following code block, you will install appropriate libraries to use in this project. \n",
    "\n",
    "Click the **Run** button on the toolbar to run this code."
   ]
  },
  {
   "cell_type": "code",
   "execution_count": 18,
   "metadata": {
    "deletable": false,
    "editable": false
   },
   "outputs": [
    {
     "name": "stderr",
     "output_type": "stream",
     "text": [
      "Installing package into '/home/codio/R/x86_64-pc-linux-gnu-library/3.4'\n",
      "(as 'lib' is unspecified)\n",
      "Installing package into '/home/codio/R/x86_64-pc-linux-gnu-library/3.4'\n",
      "(as 'lib' is unspecified)\n",
      "Installing package into '/home/codio/R/x86_64-pc-linux-gnu-library/3.4'\n",
      "(as 'lib' is unspecified)\n"
     ]
    }
   ],
   "source": [
    "install.packages(\"ResourceSelection\")\n",
    "install.packages(\"pROC\")\n",
    "install.packages(\"rpart.plot\")"
   ]
  },
  {
   "cell_type": "markdown",
   "metadata": {
    "deletable": false,
    "editable": false
   },
   "source": [
    "## Prepare Your Data Set\n",
    "\n",
    "In the following code block, you have been given the R code to prepare your data set.\n",
    "\n",
    "Click the **Run** button on the toolbar to run this code."
   ]
  },
  {
   "cell_type": "code",
   "execution_count": 2,
   "metadata": {
    "deletable": false,
    "editable": false
   },
   "outputs": [
    {
     "data": {
      "text/html": [
       "<table>\n",
       "<caption>A data.frame: 10 × 14</caption>\n",
       "<thead>\n",
       "\t<tr><th scope=col>age</th><th scope=col>sex</th><th scope=col>cp</th><th scope=col>trestbps</th><th scope=col>chol</th><th scope=col>fbs</th><th scope=col>restecg</th><th scope=col>thalach</th><th scope=col>exang</th><th scope=col>oldpeak</th><th scope=col>slope</th><th scope=col>ca</th><th scope=col>thal</th><th scope=col>target</th></tr>\n",
       "\t<tr><th scope=col>&lt;int&gt;</th><th scope=col>&lt;fct&gt;</th><th scope=col>&lt;fct&gt;</th><th scope=col>&lt;int&gt;</th><th scope=col>&lt;int&gt;</th><th scope=col>&lt;fct&gt;</th><th scope=col>&lt;fct&gt;</th><th scope=col>&lt;int&gt;</th><th scope=col>&lt;fct&gt;</th><th scope=col>&lt;dbl&gt;</th><th scope=col>&lt;fct&gt;</th><th scope=col>&lt;fct&gt;</th><th scope=col>&lt;fct&gt;</th><th scope=col>&lt;fct&gt;</th></tr>\n",
       "</thead>\n",
       "<tbody>\n",
       "\t<tr><td>62</td><td>1</td><td>2</td><td>130</td><td>231</td><td>0</td><td>1</td><td>146</td><td>0</td><td>1.8</td><td>1</td><td>3</td><td>3</td><td>1</td></tr>\n",
       "\t<tr><td>58</td><td>0</td><td>0</td><td>130</td><td>197</td><td>0</td><td>1</td><td>131</td><td>0</td><td>0.6</td><td>1</td><td>0</td><td>2</td><td>1</td></tr>\n",
       "\t<tr><td>60</td><td>0</td><td>3</td><td>150</td><td>240</td><td>0</td><td>1</td><td>171</td><td>0</td><td>0.9</td><td>2</td><td>0</td><td>2</td><td>1</td></tr>\n",
       "\t<tr><td>63</td><td>1</td><td>0</td><td>140</td><td>187</td><td>0</td><td>0</td><td>144</td><td>1</td><td>4.0</td><td>2</td><td>2</td><td>3</td><td>0</td></tr>\n",
       "\t<tr><td>62</td><td>1</td><td>0</td><td>120</td><td>267</td><td>0</td><td>1</td><td> 99</td><td>1</td><td>1.8</td><td>1</td><td>2</td><td>3</td><td>0</td></tr>\n",
       "\t<tr><td>63</td><td>0</td><td>2</td><td>135</td><td>252</td><td>0</td><td>0</td><td>172</td><td>0</td><td>0.0</td><td>2</td><td>0</td><td>2</td><td>1</td></tr>\n",
       "\t<tr><td>43</td><td>1</td><td>0</td><td>150</td><td>247</td><td>0</td><td>1</td><td>171</td><td>0</td><td>1.5</td><td>2</td><td>0</td><td>2</td><td>1</td></tr>\n",
       "\t<tr><td>42</td><td>1</td><td>2</td><td>120</td><td>240</td><td>1</td><td>1</td><td>194</td><td>0</td><td>0.8</td><td>0</td><td>0</td><td>3</td><td>1</td></tr>\n",
       "\t<tr><td>59</td><td>1</td><td>2</td><td>126</td><td>218</td><td>1</td><td>1</td><td>134</td><td>0</td><td>2.2</td><td>1</td><td>1</td><td>1</td><td>0</td></tr>\n",
       "\t<tr><td>48</td><td>1</td><td>0</td><td>124</td><td>274</td><td>0</td><td>0</td><td>166</td><td>0</td><td>0.5</td><td>1</td><td>0</td><td>3</td><td>0</td></tr>\n",
       "</tbody>\n",
       "</table>\n"
      ],
      "text/latex": [
       "A data.frame: 10 × 14\n",
       "\\begin{tabular}{r|llllllllllllll}\n",
       " age & sex & cp & trestbps & chol & fbs & restecg & thalach & exang & oldpeak & slope & ca & thal & target\\\\\n",
       " <int> & <fct> & <fct> & <int> & <int> & <fct> & <fct> & <int> & <fct> & <dbl> & <fct> & <fct> & <fct> & <fct>\\\\\n",
       "\\hline\n",
       "\t 62 & 1 & 2 & 130 & 231 & 0 & 1 & 146 & 0 & 1.8 & 1 & 3 & 3 & 1\\\\\n",
       "\t 58 & 0 & 0 & 130 & 197 & 0 & 1 & 131 & 0 & 0.6 & 1 & 0 & 2 & 1\\\\\n",
       "\t 60 & 0 & 3 & 150 & 240 & 0 & 1 & 171 & 0 & 0.9 & 2 & 0 & 2 & 1\\\\\n",
       "\t 63 & 1 & 0 & 140 & 187 & 0 & 0 & 144 & 1 & 4.0 & 2 & 2 & 3 & 0\\\\\n",
       "\t 62 & 1 & 0 & 120 & 267 & 0 & 1 &  99 & 1 & 1.8 & 1 & 2 & 3 & 0\\\\\n",
       "\t 63 & 0 & 2 & 135 & 252 & 0 & 0 & 172 & 0 & 0.0 & 2 & 0 & 2 & 1\\\\\n",
       "\t 43 & 1 & 0 & 150 & 247 & 0 & 1 & 171 & 0 & 1.5 & 2 & 0 & 2 & 1\\\\\n",
       "\t 42 & 1 & 2 & 120 & 240 & 1 & 1 & 194 & 0 & 0.8 & 0 & 0 & 3 & 1\\\\\n",
       "\t 59 & 1 & 2 & 126 & 218 & 1 & 1 & 134 & 0 & 2.2 & 1 & 1 & 1 & 0\\\\\n",
       "\t 48 & 1 & 0 & 124 & 274 & 0 & 0 & 166 & 0 & 0.5 & 1 & 0 & 3 & 0\\\\\n",
       "\\end{tabular}\n"
      ],
      "text/markdown": [
       "\n",
       "A data.frame: 10 × 14\n",
       "\n",
       "| age &lt;int&gt; | sex &lt;fct&gt; | cp &lt;fct&gt; | trestbps &lt;int&gt; | chol &lt;int&gt; | fbs &lt;fct&gt; | restecg &lt;fct&gt; | thalach &lt;int&gt; | exang &lt;fct&gt; | oldpeak &lt;dbl&gt; | slope &lt;fct&gt; | ca &lt;fct&gt; | thal &lt;fct&gt; | target &lt;fct&gt; |\n",
       "|---|---|---|---|---|---|---|---|---|---|---|---|---|---|\n",
       "| 62 | 1 | 2 | 130 | 231 | 0 | 1 | 146 | 0 | 1.8 | 1 | 3 | 3 | 1 |\n",
       "| 58 | 0 | 0 | 130 | 197 | 0 | 1 | 131 | 0 | 0.6 | 1 | 0 | 2 | 1 |\n",
       "| 60 | 0 | 3 | 150 | 240 | 0 | 1 | 171 | 0 | 0.9 | 2 | 0 | 2 | 1 |\n",
       "| 63 | 1 | 0 | 140 | 187 | 0 | 0 | 144 | 1 | 4.0 | 2 | 2 | 3 | 0 |\n",
       "| 62 | 1 | 0 | 120 | 267 | 0 | 1 |  99 | 1 | 1.8 | 1 | 2 | 3 | 0 |\n",
       "| 63 | 0 | 2 | 135 | 252 | 0 | 0 | 172 | 0 | 0.0 | 2 | 0 | 2 | 1 |\n",
       "| 43 | 1 | 0 | 150 | 247 | 0 | 1 | 171 | 0 | 1.5 | 2 | 0 | 2 | 1 |\n",
       "| 42 | 1 | 2 | 120 | 240 | 1 | 1 | 194 | 0 | 0.8 | 0 | 0 | 3 | 1 |\n",
       "| 59 | 1 | 2 | 126 | 218 | 1 | 1 | 134 | 0 | 2.2 | 1 | 1 | 1 | 0 |\n",
       "| 48 | 1 | 0 | 124 | 274 | 0 | 0 | 166 | 0 | 0.5 | 1 | 0 | 3 | 0 |\n",
       "\n"
      ],
      "text/plain": [
       "   age sex cp trestbps chol fbs restecg thalach exang oldpeak slope ca thal\n",
       "1  62  1   2  130      231  0   1       146     0     1.8     1     3  3   \n",
       "2  58  0   0  130      197  0   1       131     0     0.6     1     0  2   \n",
       "3  60  0   3  150      240  0   1       171     0     0.9     2     0  2   \n",
       "4  63  1   0  140      187  0   0       144     1     4.0     2     2  3   \n",
       "5  62  1   0  120      267  0   1        99     1     1.8     1     2  3   \n",
       "6  63  0   2  135      252  0   0       172     0     0.0     2     0  2   \n",
       "7  43  1   0  150      247  0   1       171     0     1.5     2     0  2   \n",
       "8  42  1   2  120      240  1   1       194     0     0.8     0     0  3   \n",
       "9  59  1   2  126      218  1   1       134     0     2.2     1     1  1   \n",
       "10 48  1   0  124      274  0   0       166     0     0.5     1     0  3   \n",
       "   target\n",
       "1  1     \n",
       "2  1     \n",
       "3  1     \n",
       "4  0     \n",
       "5  0     \n",
       "6  1     \n",
       "7  1     \n",
       "8  1     \n",
       "9  0     \n",
       "10 0     "
      ]
     },
     "metadata": {},
     "output_type": "display_data"
    },
    {
     "name": "stdout",
     "output_type": "stream",
     "text": [
      "[1] \"Number of variables\"\n"
     ]
    },
    {
     "data": {
      "text/html": [
       "14"
      ],
      "text/latex": [
       "14"
      ],
      "text/markdown": [
       "14"
      ],
      "text/plain": [
       "[1] 14"
      ]
     },
     "metadata": {},
     "output_type": "display_data"
    },
    {
     "name": "stdout",
     "output_type": "stream",
     "text": [
      "[1] \"Number of rows\"\n"
     ]
    },
    {
     "data": {
      "text/html": [
       "303"
      ],
      "text/latex": [
       "303"
      ],
      "text/markdown": [
       "303"
      ],
      "text/plain": [
       "[1] 303"
      ]
     },
     "metadata": {},
     "output_type": "display_data"
    }
   ],
   "source": [
    "heart_data <- read.csv(file=\"heart_disease.csv\", header=TRUE, sep=\",\")\n",
    "\n",
    "# Converting appropriate variables to factors  \n",
    "heart_data <- within(heart_data, {\n",
    "   target <- factor(target)\n",
    "   sex <- factor(sex)\n",
    "   cp <- factor(cp)\n",
    "   fbs <- factor(fbs)\n",
    "   restecg <- factor(restecg)\n",
    "   exang <- factor(exang)\n",
    "   slope <- factor(slope)\n",
    "   ca <- factor(ca)\n",
    "   thal <- factor(thal)\n",
    "})\n",
    "\n",
    "head(heart_data, 10)\n",
    "\n",
    "print(\"Number of variables\")\n",
    "ncol(heart_data)\n",
    "\n",
    "print(\"Number of rows\")\n",
    "nrow(heart_data)"
   ]
  },
  {
   "cell_type": "markdown",
   "metadata": {},
   "source": [
    " "
   ]
  },
  {
   "cell_type": "markdown",
   "metadata": {
    "deletable": false,
    "editable": false
   },
   "source": [
    "## Model #1 - First Logistic Regression Model\n",
    "\n",
    "You have been asked to create a logistic regression model for heart disease *(target)* using the variables age *(age)*, resting blood pressure *(trestbps)*, and maximum heart rate achieved *(thalach)*. Before writing any code, review Section 3 of the Summary Report template to see the questions you will be answering about your logistic regression model.\n",
    "\n",
    "Run your scripts to get the outputs of your regression analysis. Then use the outputs to answer the questions in your summary report.\n",
    "\n",
    "**Note: Use the + (plus) button to add new code blocks, if needed.**"
   ]
  },
  {
   "cell_type": "markdown",
   "metadata": {},
   "source": [
    "The general form of this regression model is:\n",
    "<br><br>\n",
    "\n",
    "\\begin{equation*}\n",
    "\\Large E(y) = \\frac{e^{({\\beta}_0\\ +\\ {\\beta}_1 {x}_1\\ +\\ {\\beta}_2 {x}_2\\ + \\ {\\beta}_3 {x}_3)}}{1+e^{({\\beta}_0\\ +\\ {\\beta}_1 {x}_1\\ + \\ {\\beta}_2 {x}_2\\ + \\ {\\beta}_3 {x}_3)}}\n",
    "\\end{equation*}\n",
    "<br><br>\n",
    "\n",
    "\n",
    "\\begin{equation*}\n",
    "\\text{where y is 1 for having heart disease and 0 for not having heart disease,}\\ {x}_1\\ \\text{is age,}\n",
    "\\end{equation*}\n",
    "\n",
    "\\begin{equation*}\n",
    "\\ \\ {x}_2\\ \\text{is resting blood pressure, and }\\ {x}_3\\ \\text{is maximum heart rate achieved.}\n",
    "\\end{equation*}\n",
    "<br><br>\n",
    "\n",
    "This can be transformed to form a model that is linear in the beta terms:\n",
    "<br><br>\n",
    "\n",
    "\\begin{equation*}\n",
    "\\large ln(\\frac{\\pi}{1 - \\pi }) = {\\beta}_0\\ +\\ {\\beta}_1 {x}_1\\ + \\ {\\beta}_2 {x}_2\\ + \\ {\\beta}_3 {x}_3\n",
    "\\end{equation*}\n",
    "<br><br>\n",
    "\n",
    "The left side of the equation above is the natural log of odds, so this can be written as:\n",
    "<br><br>\n",
    "\n",
    "\\begin{equation*}\n",
    "\\large ln(\\ odds\\ ) = {\\beta}_0\\ +\\ {\\beta}_1 {x}_1\\ + \\ {\\beta}_2 {x}_2\\ + \\ {\\beta}_3 {x}_3\n",
    "\\end{equation*}\n",
    "<br><br>\n",
    "\n",
    "\\begin{equation*}\n",
    "\\text{where odds is the odds of having heart disease (target=1)}\n",
    "\\end{equation*}\n",
    "<br><br>"
   ]
  },
  {
   "cell_type": "code",
   "execution_count": 3,
   "metadata": {
    "scrolled": true
   },
   "outputs": [
    {
     "data": {
      "text/plain": [
       "\n",
       "Call:\n",
       "glm(formula = target ~ age + trestbps + thalach, family = \"binomial\", \n",
       "    data = heart_data)\n",
       "\n",
       "Deviance Residuals: \n",
       "    Min       1Q   Median       3Q      Max  \n",
       "-2.0257  -1.0069   0.5688   0.9203   2.0476  \n",
       "\n",
       "Coefficients:\n",
       "             Estimate Std. Error z value Pr(>|z|)    \n",
       "(Intercept) -3.576198   1.633928  -2.189   0.0286 *  \n",
       "age         -0.009424   0.016080  -0.586   0.5578    \n",
       "trestbps    -0.016019   0.007767  -2.063   0.0392 *  \n",
       "thalach      0.042697   0.006950   6.144 8.06e-10 ***\n",
       "---\n",
       "Signif. codes:  0 '***' 0.001 '**' 0.01 '*' 0.05 '.' 0.1 ' ' 1\n",
       "\n",
       "(Dispersion parameter for binomial family taken to be 1)\n",
       "\n",
       "    Null deviance: 417.64  on 302  degrees of freedom\n",
       "Residual deviance: 353.28  on 299  degrees of freedom\n",
       "AIC: 361.28\n",
       "\n",
       "Number of Fisher Scoring iterations: 3\n"
      ]
     },
     "metadata": {},
     "output_type": "display_data"
    }
   ],
   "source": [
    "# Create the complete model1\n",
    "logit1 <- glm(target ~ age + trestbps + thalach , data = heart_data, family = \"binomial\")\n",
    "\n",
    "summary(logit1)"
   ]
  },
  {
   "cell_type": "markdown",
   "metadata": {},
   "source": [
    "Our regression model from above is:\n",
    "<br><br>\n",
    "\n",
    "\\begin{equation*}\n",
    "\\large E(y) = \\frac{e^{(-3.5762\\ -\\ 0.0094 {x}_1\\ -\\ 0.0160 {x}_2\\ +\\ 0.0427 {x}_3)}}{1+e^{(-3.5762\\ -\\ 0.0094 {x}_1\\ -\\ 0.0160  {x}_2\\ +\\ 0.0427 {x}_3)}}\n",
    "\\end{equation*}\n",
    "<br><br>\n",
    "\n",
    "\n",
    "\\begin{equation*}\n",
    "\\large ln({odds}) = -3.5762\\ -\\ 0.0094  {x}_1\\ -\\ 0.0160  {x}_2\\ +\\ 0.0427 {x}_3\n",
    "\\end{equation*}\n",
    "<br><br>"
   ]
  },
  {
   "cell_type": "code",
   "execution_count": 4,
   "metadata": {
    "scrolled": true
   },
   "outputs": [
    {
     "name": "stderr",
     "output_type": "stream",
     "text": [
      "ResourceSelection 0.3-5 \t 2019-07-22\n"
     ]
    },
    {
     "name": "stdout",
     "output_type": "stream",
     "text": [
      "[1] \"Hosmer-Lemeshow Goodness of Fit Test\"\n"
     ]
    },
    {
     "data": {
      "text/plain": [
       "\n",
       "\tHosmer and Lemeshow goodness of fit (GOF) test\n",
       "\n",
       "data:  logit1$y, fitted(logit1)\n",
       "X-squared = 41.978, df = 48, p-value = 0.7168\n"
      ]
     },
     "metadata": {},
     "output_type": "display_data"
    }
   ],
   "source": [
    "#Hosmer-Lemeshow goodness of fit test \n",
    "library(ResourceSelection)\n",
    "\n",
    "\n",
    "print(\"Hosmer-Lemeshow Goodness of Fit Test\")\n",
    "hl = hoslem.test(logit1$y, fitted(logit1), g=50)\n",
    "hl"
   ]
  },
  {
   "cell_type": "code",
   "execution_count": 5,
   "metadata": {},
   "outputs": [
    {
     "name": "stdout",
     "output_type": "stream",
     "text": [
      "[1] \"Confusion Matrix\"\n"
     ]
    },
    {
     "data": {
      "text/html": [
       "<table>\n",
       "<caption>A matrix: 2 × 2 of type chr</caption>\n",
       "<thead>\n",
       "\t<tr><th></th><th scope=col>Prediction: target=0</th><th scope=col>Prediction: target=1</th></tr>\n",
       "</thead>\n",
       "<tbody>\n",
       "\t<tr><th scope=row>Actual: target=0</th><td> 83</td><td> 55</td></tr>\n",
       "\t<tr><th scope=row>Actual: target=1</th><td> 38</td><td>127</td></tr>\n",
       "</tbody>\n",
       "</table>\n"
      ],
      "text/latex": [
       "A matrix: 2 × 2 of type chr\n",
       "\\begin{tabular}{r|ll}\n",
       "  & Prediction: target=0 & Prediction: target=1\\\\\n",
       "\\hline\n",
       "\tActual: target=0 &  83 &  55\\\\\n",
       "\tActual: target=1 &  38 & 127\\\\\n",
       "\\end{tabular}\n"
      ],
      "text/markdown": [
       "\n",
       "A matrix: 2 × 2 of type chr\n",
       "\n",
       "| <!--/--> | Prediction: target=0 | Prediction: target=1 |\n",
       "|---|---|---|\n",
       "| Actual: target=0 |  83 |  55 |\n",
       "| Actual: target=1 |  38 | 127 |\n",
       "\n"
      ],
      "text/plain": [
       "                  depvar_pred\n",
       "                   Prediction: target=0 Prediction: target=1\n",
       "  Actual: target=0  83                   55                 \n",
       "  Actual: target=1  38                  127                 "
      ]
     },
     "metadata": {},
     "output_type": "display_data"
    }
   ],
   "source": [
    "# Predict default or no_default for the data set using the model\n",
    "default_model_data1 <- heart_data[c('age', 'trestbps', 'thalach')]\n",
    "pred <- predict(logit1, newdata=default_model_data1, type='response')\n",
    "\n",
    "# If the predicted probability of default is >=0.50 then predict credit default (default='1'), otherwise predict no credit \n",
    "# default (default='0') \n",
    "depvar_pred = as.factor(ifelse(pred >= 0.5, '1', '0'))\n",
    "\n",
    "# This creates the confusion matrix\n",
    "conf.matrix <- table(heart_data$target, depvar_pred)[c('0','1'),c('0','1')]\n",
    "rownames(conf.matrix) <- paste(\"Actual\", rownames(conf.matrix), sep = \": target=\")\n",
    "colnames(conf.matrix) <- paste(\"Prediction\", colnames(conf.matrix), sep = \": target=\")\n",
    "\n",
    "# Print nicely formatted confusion matrix\n",
    "print(\"Confusion Matrix\")\n",
    "format(conf.matrix,justify=\"centre\",digit=2)"
   ]
  },
  {
   "cell_type": "code",
   "execution_count": 6,
   "metadata": {},
   "outputs": [
    {
     "name": "stderr",
     "output_type": "stream",
     "text": [
      "Type 'citation(\"pROC\")' for a citation.\n",
      "\n",
      "Attaching package: 'pROC'\n",
      "\n",
      "The following objects are masked from 'package:stats':\n",
      "\n",
      "    cov, smooth, var\n",
      "\n",
      "Setting levels: control = 0, case = 1\n",
      "Setting direction: controls < cases\n"
     ]
    },
    {
     "name": "stdout",
     "output_type": "stream",
     "text": [
      "[1] \"Area Under the Curve (AUC)\"\n"
     ]
    },
    {
     "data": {
      "text/html": [
       "0.7575"
      ],
      "text/latex": [
       "0.7575"
      ],
      "text/markdown": [
       "0.7575"
      ],
      "text/plain": [
       "[1] 0.7575"
      ]
     },
     "metadata": {},
     "output_type": "display_data"
    },
    {
     "name": "stdout",
     "output_type": "stream",
     "text": [
      "[1] \"ROC Curve\"\n"
     ]
    },
    {
     "data": {
      "image/png": "[encoded data removed]",
      "text/plain": [
       "plot without title"
      ]
     },
     "metadata": {},
     "output_type": "display_data"
    }
   ],
   "source": [
    "#Receiver Operating Characteristic \n",
    "library(pROC)\n",
    "\n",
    "labels <- heart_data$target\n",
    "predictions <- logit1$fitted.values\n",
    "\n",
    "roc <- roc(labels ~ predictions)\n",
    "\n",
    "print(\"Area Under the Curve (AUC)\")\n",
    "round(auc(roc),4)\n",
    "\n",
    "print(\"ROC Curve\")\n",
    "# True Positive Rate (Sensitivity) and False Positive Rate (1 - Specificity)\n",
    "plot(roc, legacy.axes = TRUE)"
   ]
  },
  {
   "cell_type": "code",
   "execution_count": 7,
   "metadata": {},
   "outputs": [
    {
     "name": "stdout",
     "output_type": "stream",
     "text": [
      "[1] \"Prediction: age is 50, resting blood pressure of 122, and maximum heart rate of 140\"\n"
     ]
    },
    {
     "data": {
      "text/html": [
       "<strong>1:</strong> 0.4939"
      ],
      "text/latex": [
       "\\textbf{1:} 0.4939"
      ],
      "text/markdown": [
       "**1:** 0.4939"
      ],
      "text/plain": [
       "     1 \n",
       "0.4939 "
      ]
     },
     "metadata": {},
     "output_type": "display_data"
    },
    {
     "name": "stdout",
     "output_type": "stream",
     "text": [
      "[1] \"Prediction: age is 50, resting blood pressure of 140, and maximum heart rate of 170\"\n"
     ]
    },
    {
     "data": {
      "text/html": [
       "<strong>1:</strong> 0.7248"
      ],
      "text/latex": [
       "\\textbf{1:} 0.7248"
      ],
      "text/markdown": [
       "**1:** 0.7248"
      ],
      "text/plain": [
       "     1 \n",
       "0.7248 "
      ]
     },
     "metadata": {},
     "output_type": "display_data"
    }
   ],
   "source": [
    "print(\"Prediction: age is 50, resting blood pressure of 122, and maximum heart rate of 140\")\n",
    "newdata1 <- data.frame(age=50, trestbps=122,thalach=140 )\n",
    "pred1 <- predict(logit1, newdata1, type='response')\n",
    "round(pred1, 4)\n",
    "\n",
    "print(\"Prediction: age is 50, resting blood pressure of 140, and maximum heart rate of 170\")\n",
    "newdata2 <- data.frame(age=50, trestbps=140,thalach=170 )\n",
    "pred2 <- predict(logit1, newdata2, type='response')\n",
    "round(pred2, 4)"
   ]
  },
  {
   "cell_type": "markdown",
   "metadata": {},
   "source": [
    " "
   ]
  },
  {
   "cell_type": "markdown",
   "metadata": {
    "deletable": false,
    "editable": false
   },
   "source": [
    "## Model #2 - Second Logistic Regression Model\n",
    "\n",
    "You have been asked to create a logistic regression model for heart disease *(target)* using the variables maximum heart rate achieved *(thalach)*, age of the individual *(age)*, sex of the individual *(sex)*, exercise-induced angina *(exang)*, and type of chest pain *(cp)*. You also have to include the quadratic term for age and the interaction term between age and maximum heart rate achieved. Before writing any code, review Section 4 of the Summary Report template to see the questions you will be answering about your model.\n",
    "\n",
    "Run your scripts to get the outputs of your analysis. Then use the outputs to answer the questions in your summary report.\n",
    "\n",
    "**Note: Use the + (plus) button to add new code blocks, if needed.**"
   ]
  },
  {
   "cell_type": "markdown",
   "metadata": {},
   "source": [
    "The general form of this regression model is:\n",
    "<br><br>\n",
    "\n",
    "\\begin{equation*}\n",
    "\\Large E(y) = \\frac{e^{({\\beta}_0\\ +\\ {\\beta}_1 {x}_1\\ +\\ {\\beta}_2 {x}_2\\ + \\ {\\beta}_3 {x}_3\\ + \\ {\\beta}_4 {x}_4\\ + \\ {\\beta}_5 {x}_5\\ + \\ {\\beta}_6 {x}_6\\ + \\ {\\beta}_7 {x}_7 + {\\beta}_1 {x}_1 {\\beta}_7 {x}_7 + {\\beta}_1 {x}_1 ^ 2 )}}{1+e^{({\\beta}_0\\ +\\ {\\beta}_1 {x}_1\\ +\\ {\\beta}_2 {x}_2\\ + \\ {\\beta}_3 {x}_3\\ + \\ {\\beta}_4 {x}_4\\ + \\ {\\beta}_5 {x}_5\\ + \\ {\\beta}_6 {x}_6\\ + \\ {\\beta}_7 {x}_7 + {\\beta}_1 {x}_1 {\\beta}_7 {x}_7 + {\\beta}_1 {x}_1 ^ 2 )}}\n",
    "\\end{equation*}\n",
    "<br>\n",
    "\n",
    "\n",
    "\\begin{equation*}\n",
    "\\text{where y is 1 for having heart disease and 0 for not having heart disease,}\\ {x}_1\\ \\text{is age,}\n",
    "\\end{equation*}\n",
    "\n",
    "\\begin{equation*}\n",
    "\\ \\ {x}_2\\ \\text{is chest pain = 1 (typical angina), }\\ {x}_3\\ \\text{is chest pain = 2 (atypical angina).}\\ {x}_4\\ \\text{is chest pain = 3 (non-anginal pain).}\n",
    "\\end{equation*}\n",
    "\n",
    "\\begin{equation*}\n",
    "\\ {x}_5\\ \\text{exercise induced angina = 1.}\\ {x}_6\\ \\text{is sex = 1 (male).}\\ {x}_7\\ \\text{is maximum heart rate achieved.}\n",
    "\\end{equation*}\n",
    "\n",
    "<br>\n",
    "This can be transformed to form a model that is linear in the beta terms:\n",
    "\n",
    "<br>\n",
    "\n",
    "\\begin{equation*}\n",
    "\\large ln(\\frac{\\pi}{1 - \\pi }) = {\\beta}_0\\ +\\ {\\beta}_1 {x}_1\\ + \\ {\\beta}_2 {x}_2\\ + \\ {\\beta}_3 {x}_3\\ + \\ {\\beta}_4 {x}_4\\ + \\ {\\beta}_5 {x}_5\\ + \\ {\\beta}_6 {x}_6\\ + \\ {\\beta}_7 {x}_7 + {\\beta}_8 {x}_1 {x}_7 + {\\beta}_9 {x}_1 ^ 2\n",
    "\\end{equation*}\n",
    "<br><br>\n",
    "\n",
    "The left side of the equation above is the natural log of odds, so this can be written as:\n",
    "<br><br>\n",
    "\n",
    "\\begin{equation*}\n",
    "\\large ln(\\ odds\\ ) = {\\beta}_0\\ +\\ {\\beta}_1 {x}_1\\ + \\ {\\beta}_2 {x}_2\\ + \\ {\\beta}_3 {x}_3\\ + \\ {\\beta}_4 {x}_4\\ + \\ {\\beta}_5 {x}_5\\ + \\ {\\beta}_6 {x}_6\\ + \\ {\\beta}_7 {x}_7 + {\\beta}_8 {x}_1 {x}_7 + {\\beta}_9 {x}_1 ^ 2\n",
    "\\end{equation*}\n",
    "<br>\n",
    "\n",
    "\\begin{equation*}\n",
    "\\text{where odds is the odds of having heart disease (target=1)}\n",
    "\\end{equation*}\n",
    "<br><br>"
   ]
  },
  {
   "cell_type": "code",
   "execution_count": 8,
   "metadata": {},
   "outputs": [
    {
     "data": {
      "text/plain": [
       "\n",
       "Call:\n",
       "glm(formula = target ~ age + cp + exang + sex + thalach + age:thalach + \n",
       "    I(age^2), family = \"binomial\", data = heart_data)\n",
       "\n",
       "Deviance Residuals: \n",
       "    Min       1Q   Median       3Q      Max  \n",
       "-2.4225  -0.6167   0.2083   0.6646   2.5398  \n",
       "\n",
       "Coefficients:\n",
       "              Estimate Std. Error z value Pr(>|z|)    \n",
       "(Intercept) -1.634e+01  1.205e+01  -1.356 0.175117    \n",
       "age          2.049e-01  3.112e-01   0.658 0.510325    \n",
       "cp1          1.766e+00  4.821e-01   3.663 0.000249 ***\n",
       "cp2          1.820e+00  3.844e-01   4.734 2.21e-06 ***\n",
       "cp3          1.674e+00  5.764e-01   2.904 0.003684 ** \n",
       "exang1      -9.348e-01  3.586e-01  -2.607 0.009133 ** \n",
       "sex1        -1.709e+00  3.590e-01  -4.762 1.91e-06 ***\n",
       "thalach      1.390e-01  5.701e-02   2.438 0.014760 *  \n",
       "I(age^2)     4.921e-04  2.054e-03   0.240 0.810599    \n",
       "age:thalach -2.017e-03  9.999e-04  -2.017 0.043666 *  \n",
       "---\n",
       "Signif. codes:  0 '***' 0.001 '**' 0.01 '*' 0.05 '.' 0.1 ' ' 1\n",
       "\n",
       "(Dispersion parameter for binomial family taken to be 1)\n",
       "\n",
       "    Null deviance: 417.64  on 302  degrees of freedom\n",
       "Residual deviance: 263.42  on 293  degrees of freedom\n",
       "AIC: 283.42\n",
       "\n",
       "Number of Fisher Scoring iterations: 5\n"
      ]
     },
     "metadata": {},
     "output_type": "display_data"
    }
   ],
   "source": [
    "# Create the complete model1\n",
    "logit2 <- glm(target ~ age + cp + exang + sex + thalach + age:thalach  + I(age^2), data = heart_data, family = \"binomial\")\n",
    "\n",
    "summary(logit2)"
   ]
  },
  {
   "cell_type": "code",
   "execution_count": 9,
   "metadata": {},
   "outputs": [
    {
     "name": "stdout",
     "output_type": "stream",
     "text": [
      "[1] \"Hosmer-Lemeshow Goodness of Fit Test\"\n"
     ]
    },
    {
     "data": {
      "text/plain": [
       "\n",
       "\tHosmer and Lemeshow goodness of fit (GOF) test\n",
       "\n",
       "data:  logit1$y, fitted(logit2)\n",
       "X-squared = 60.596, df = 48, p-value = 0.1048\n"
      ]
     },
     "metadata": {},
     "output_type": "display_data"
    }
   ],
   "source": [
    "#Hosmer-Lemeshow goodness of fit test \n",
    "library(ResourceSelection)\n",
    "\n",
    "\n",
    "print(\"Hosmer-Lemeshow Goodness of Fit Test\")\n",
    "hl = hoslem.test(logit1$y, fitted(logit2), g=50)\n",
    "hl"
   ]
  },
  {
   "cell_type": "code",
   "execution_count": 10,
   "metadata": {},
   "outputs": [
    {
     "name": "stdout",
     "output_type": "stream",
     "text": [
      "[1] \"Confusion Matrix\"\n"
     ]
    },
    {
     "data": {
      "text/html": [
       "<table>\n",
       "<caption>A matrix: 2 × 2 of type chr</caption>\n",
       "<thead>\n",
       "\t<tr><th></th><th scope=col>Prediction: target=0</th><th scope=col>Prediction: target=1</th></tr>\n",
       "</thead>\n",
       "<tbody>\n",
       "\t<tr><th scope=row>Actual: target=0</th><td>103</td><td> 35</td></tr>\n",
       "\t<tr><th scope=row>Actual: target=1</th><td> 27</td><td>138</td></tr>\n",
       "</tbody>\n",
       "</table>\n"
      ],
      "text/latex": [
       "A matrix: 2 × 2 of type chr\n",
       "\\begin{tabular}{r|ll}\n",
       "  & Prediction: target=0 & Prediction: target=1\\\\\n",
       "\\hline\n",
       "\tActual: target=0 & 103 &  35\\\\\n",
       "\tActual: target=1 &  27 & 138\\\\\n",
       "\\end{tabular}\n"
      ],
      "text/markdown": [
       "\n",
       "A matrix: 2 × 2 of type chr\n",
       "\n",
       "| <!--/--> | Prediction: target=0 | Prediction: target=1 |\n",
       "|---|---|---|\n",
       "| Actual: target=0 | 103 |  35 |\n",
       "| Actual: target=1 |  27 | 138 |\n",
       "\n"
      ],
      "text/plain": [
       "                  depvar_pred\n",
       "                   Prediction: target=0 Prediction: target=1\n",
       "  Actual: target=0 103                   35                 \n",
       "  Actual: target=1  27                  138                 "
      ]
     },
     "metadata": {},
     "output_type": "display_data"
    }
   ],
   "source": [
    "# Predict default or no_default for the data set using the model\n",
    "default_model_data2 <- heart_data[c('age','cp', 'exang','sex', 'thalach')]\n",
    "pred <- predict(logit2, newdata=default_model_data2, type='response')\n",
    "\n",
    "# If the predicted probability of default is >=0.50 then predict credit default (default='1'), otherwise predict no credit \n",
    "# default (default='0') \n",
    "depvar_pred = as.factor(ifelse(pred >= 0.5, '1', '0'))\n",
    "\n",
    "# This creates the confusion matrix\n",
    "conf.matrix <- table(heart_data$target, depvar_pred)[c('0','1'),c('0','1')]\n",
    "rownames(conf.matrix) <- paste(\"Actual\", rownames(conf.matrix), sep = \": target=\")\n",
    "colnames(conf.matrix) <- paste(\"Prediction\", colnames(conf.matrix), sep = \": target=\")\n",
    "\n",
    "# Print nicely formatted confusion matrix\n",
    "print(\"Confusion Matrix\")\n",
    "format(conf.matrix,justify=\"centre\",digit=2)"
   ]
  },
  {
   "cell_type": "code",
   "execution_count": 11,
   "metadata": {},
   "outputs": [
    {
     "name": "stderr",
     "output_type": "stream",
     "text": [
      "Setting levels: control = 0, case = 1\n",
      "Setting direction: controls < cases\n"
     ]
    },
    {
     "name": "stdout",
     "output_type": "stream",
     "text": [
      "[1] \"Area Under the Curve (AUC)\"\n"
     ]
    },
    {
     "data": {
      "text/html": [
       "0.8777"
      ],
      "text/latex": [
       "0.8777"
      ],
      "text/markdown": [
       "0.8777"
      ],
      "text/plain": [
       "[1] 0.8777"
      ]
     },
     "metadata": {},
     "output_type": "display_data"
    },
    {
     "name": "stdout",
     "output_type": "stream",
     "text": [
      "[1] \"ROC Curve\"\n"
     ]
    },
    {
     "data": {
      "image/png": "[encoded data removed]",
      "text/plain": [
       "plot without title"
      ]
     },
     "metadata": {},
     "output_type": "display_data"
    }
   ],
   "source": [
    "#Receiver Operating Characteristic \n",
    "library(pROC)\n",
    "\n",
    "labels <- heart_data$target\n",
    "predictions <- logit2$fitted.values\n",
    "\n",
    "roc <- roc(labels ~ predictions)\n",
    "\n",
    "print(\"Area Under the Curve (AUC)\")\n",
    "round(auc(roc),4)\n",
    "\n",
    "print(\"ROC Curve\")\n",
    "# True Positive Rate (Sensitivity) and False Positive Rate (1 - Specificity)\n",
    "plot(roc, legacy.axes = TRUE)"
   ]
  },
  {
   "cell_type": "code",
   "execution_count": 12,
   "metadata": {},
   "outputs": [
    {
     "name": "stdout",
     "output_type": "stream",
     "text": [
      "[1] \"Prediction: sex is male, age is 30, experiences exercise induced angina, does not experience chest pain, and maximum heart rate of 145\"\n"
     ]
    },
    {
     "data": {
      "text/html": [
       "<strong>1:</strong> 0.2654"
      ],
      "text/latex": [
       "\\textbf{1:} 0.2654"
      ],
      "text/markdown": [
       "**1:** 0.2654"
      ],
      "text/plain": [
       "     1 \n",
       "0.2654 "
      ]
     },
     "metadata": {},
     "output_type": "display_data"
    },
    {
     "name": "stdout",
     "output_type": "stream",
     "text": [
      "[1] \"Prediction: sex is male, age is 30, does not experience exercise induced angina, does experience typical angina, and maximum heart rate of 145\"\n"
     ]
    },
    {
     "data": {
      "text/html": [
       "<strong>1:</strong> 0.8432"
      ],
      "text/latex": [
       "\\textbf{1:} 0.8432"
      ],
      "text/markdown": [
       "**1:** 0.8432"
      ],
      "text/plain": [
       "     1 \n",
       "0.8432 "
      ]
     },
     "metadata": {},
     "output_type": "display_data"
    }
   ],
   "source": [
    "print(\"Prediction: sex is male, age is 30, experiences exercise induced angina, does not experience chest pain, and maximum heart rate of 145\")\n",
    "newdata3 <- data.frame( sex=\"1\", age=30,cp=\"0\", exang=\"1\", thalach=145 )\n",
    "pred3 <- predict(logit2, newdata3, type='response')\n",
    "round(pred3, 4)\n",
    "\n",
    "print(\"Prediction: sex is male, age is 30, does not experience exercise induced angina, does experience typical angina, and maximum heart rate of 145\")\n",
    "newdata4 <- data.frame( sex=\"1\", age=30,cp=\"1\", exang=\"0\", thalach=145 )\n",
    "pred4 <- predict(logit2, newdata4, type='response')\n",
    "round(pred4, 4)"
   ]
  },
  {
   "cell_type": "markdown",
   "metadata": {},
   "source": [
    " "
   ]
  },
  {
   "cell_type": "markdown",
   "metadata": {
    "deletable": false,
    "editable": false
   },
   "source": [
    "## Random Forest Classification Model\n",
    "\n",
    "You have been asked to create a random forest classification model for the presence of heart disease *(target)* using the variables age *(age)*, sex *(sex)*, chest pain type *(cp)*, resting blood pressure *(trestbps)*, cholesterol measurement *(chol)*, resting electrocardiographic measurement *(restecg)*, exercise-induced angina *(exang)*, slope of peak exercise *(slope)*, and number of major vessels *(ca)*. Before writing any code, review Section 5 of the Summary Report template to see the questions you will be answering about your model.\n",
    "\n",
    "Run your scripts to get the outputs of your regression analysis. Then use the outputs to answer the questions in your summary report.\n",
    "\n",
    "**Note: Use the + (plus) button to add new code blocks, if needed.**"
   ]
  },
  {
   "cell_type": "code",
   "execution_count": 13,
   "metadata": {},
   "outputs": [
    {
     "name": "stdout",
     "output_type": "stream",
     "text": [
      "[1] \"Number of rows for the training set\"\n"
     ]
    },
    {
     "data": {
      "text/html": [
       "242"
      ],
      "text/latex": [
       "242"
      ],
      "text/markdown": [
       "242"
      ],
      "text/plain": [
       "[1] 242"
      ]
     },
     "metadata": {},
     "output_type": "display_data"
    },
    {
     "name": "stdout",
     "output_type": "stream",
     "text": [
      "[1] \"Number of rows for the testing set\"\n"
     ]
    },
    {
     "data": {
      "text/html": [
       "61"
      ],
      "text/latex": [
       "61"
      ],
      "text/markdown": [
       "61"
      ],
      "text/plain": [
       "[1] 61"
      ]
     },
     "metadata": {},
     "output_type": "display_data"
    }
   ],
   "source": [
    "set.seed(511038)\n",
    "\n",
    "# Partition the data set into training and testing data\n",
    "samp.size = floor(0.80*nrow(heart_data))\n",
    "\n",
    "# Training set\n",
    "print(\"Number of rows for the training set\")\n",
    "train_ind = sample(seq_len(nrow(heart_data)), size = samp.size)\n",
    "train.data = heart_data[train_ind,]\n",
    "nrow(train.data)\n",
    "\n",
    "# Testing set \n",
    "print(\"Number of rows for the testing set\")\n",
    "test.data = heart_data[-train_ind,]\n",
    "nrow(test.data)"
   ]
  },
  {
   "cell_type": "code",
   "execution_count": 14,
   "metadata": {},
   "outputs": [
    {
     "name": "stderr",
     "output_type": "stream",
     "text": [
      "randomForest 4.6-14\n",
      "Type rfNews() to see new features/changes/bug fixes.\n"
     ]
    },
    {
     "data": {
      "image/png": "[encoded data removed]",
      "text/plain": [
       "plot without title"
      ]
     },
     "metadata": {},
     "output_type": "display_data"
    }
   ],
   "source": [
    "#Graphing the Training and Testing Error Against the Number of Trees\n",
    "set.seed(511038)\n",
    "library(randomForest)\n",
    "\n",
    "# checking\n",
    "#=====================================================================\n",
    "train = c()\n",
    "test = c()\n",
    "trees = c()\n",
    "\n",
    "for(i in seq(from=1, to=200, by=1)) {\n",
    "    #print(i)\n",
    "    \n",
    "    trees <- c(trees, i)\n",
    "    \n",
    "    model_rf3 <- randomForest(target ~ age+sex+cp+trestbps+chol+restecg+exang+slope+ca, data=train.data, ntree = i)\n",
    "    \n",
    "    train.data.predict <- predict(model_rf3, train.data, type = \"class\")\n",
    "    conf.matrix1 <- table(train.data$target, train.data.predict)\n",
    "    train_error = 1-(sum(diag(conf.matrix1)))/sum(conf.matrix1)\n",
    "    train <- c(train, train_error)\n",
    "    \n",
    "    test.data.predict <- predict(model_rf3, test.data, type = \"class\")\n",
    "    conf.matrix2 <- table(test.data$target, test.data.predict)\n",
    "    test_error = 1-(sum(diag(conf.matrix2)))/sum(conf.matrix2)\n",
    "    test <- c(test, test_error)\n",
    "}\n",
    " \n",
    "#matplot (trees, cbind (train, test), ylim=c(0,0.5) , type = c(\"l\", \"l\"), lwd=2, col=c(\"red\",\"blue\"), ylab=\"Error\", xlab=\"number of trees\")\n",
    "#legend('topright',legend = c('training set','testing set'), col = c(\"red\",\"blue\"), lwd = 2 )\n",
    "\n",
    "plot(trees, train,type = \"l\",ylim=c(0,1.0),col = \"red\", xlab = \"Number of Trees\", ylab = \"Classification Error\")\n",
    "lines(test, type = \"l\", col = \"blue\")\n",
    "legend('topright',legend = c('training set','testing set'), col = c(\"red\",\"blue\"), lwd = 2 )"
   ]
  },
  {
   "cell_type": "code",
   "execution_count": 15,
   "metadata": {},
   "outputs": [
    {
     "name": "stdout",
     "output_type": "stream",
     "text": [
      "[1] \"======================================================================================================================\"\n",
      "[1] \"Confusion Matrix: TRAINING set based on random forest model built using 50 trees\"\n"
     ]
    },
    {
     "data": {
      "text/html": [
       "<table>\n",
       "<caption>A matrix: 2 × 2 of type chr</caption>\n",
       "<thead>\n",
       "\t<tr><th></th><th scope=col>Prediction: 0</th><th scope=col>Prediction: 1</th></tr>\n",
       "</thead>\n",
       "<tbody>\n",
       "\t<tr><th scope=row>Actual: 0</th><td>110</td><td>  2</td></tr>\n",
       "\t<tr><th scope=row>Actual: 1</th><td>  0</td><td>130</td></tr>\n",
       "</tbody>\n",
       "</table>\n"
      ],
      "text/latex": [
       "A matrix: 2 × 2 of type chr\n",
       "\\begin{tabular}{r|ll}\n",
       "  & Prediction: 0 & Prediction: 1\\\\\n",
       "\\hline\n",
       "\tActual: 0 & 110 &   2\\\\\n",
       "\tActual: 1 &   0 & 130\\\\\n",
       "\\end{tabular}\n"
      ],
      "text/markdown": [
       "\n",
       "A matrix: 2 × 2 of type chr\n",
       "\n",
       "| <!--/--> | Prediction: 0 | Prediction: 1 |\n",
       "|---|---|---|\n",
       "| Actual: 0 | 110 |   2 |\n",
       "| Actual: 1 |   0 | 130 |\n",
       "\n"
      ],
      "text/plain": [
       "           train.data.predict\n",
       "            Prediction: 0 Prediction: 1\n",
       "  Actual: 0 110             2          \n",
       "  Actual: 1   0           130          "
      ]
     },
     "metadata": {},
     "output_type": "display_data"
    },
    {
     "name": "stdout",
     "output_type": "stream",
     "text": [
      "[1] \"======================================================================================================================\"\n",
      "[1] \"Confusion Matrix: TESTING set based on random forest model built using 50 trees\"\n"
     ]
    },
    {
     "data": {
      "text/html": [
       "<table>\n",
       "<caption>A matrix: 2 × 2 of type chr</caption>\n",
       "<thead>\n",
       "\t<tr><th></th><th scope=col>Prediction: 0</th><th scope=col>Prediction: 1</th></tr>\n",
       "</thead>\n",
       "<tbody>\n",
       "\t<tr><th scope=row>Actual: 0</th><td>18</td><td> 8</td></tr>\n",
       "\t<tr><th scope=row>Actual: 1</th><td> 8</td><td>27</td></tr>\n",
       "</tbody>\n",
       "</table>\n"
      ],
      "text/latex": [
       "A matrix: 2 × 2 of type chr\n",
       "\\begin{tabular}{r|ll}\n",
       "  & Prediction: 0 & Prediction: 1\\\\\n",
       "\\hline\n",
       "\tActual: 0 & 18 &  8\\\\\n",
       "\tActual: 1 &  8 & 27\\\\\n",
       "\\end{tabular}\n"
      ],
      "text/markdown": [
       "\n",
       "A matrix: 2 × 2 of type chr\n",
       "\n",
       "| <!--/--> | Prediction: 0 | Prediction: 1 |\n",
       "|---|---|---|\n",
       "| Actual: 0 | 18 |  8 |\n",
       "| Actual: 1 |  8 | 27 |\n",
       "\n"
      ],
      "text/plain": [
       "           test.data.predict\n",
       "            Prediction: 0 Prediction: 1\n",
       "  Actual: 0 18             8           \n",
       "  Actual: 1  8            27           "
      ]
     },
     "metadata": {},
     "output_type": "display_data"
    }
   ],
   "source": [
    "set.seed(511038)\n",
    "library(randomForest)\n",
    "model_rf4 <- randomForest(target ~ age+sex+cp+trestbps+chol+restecg+exang+slope+ca, data=train.data, ntree = 50)\n",
    "\n",
    "# Confusion matrix\n",
    "print(\"======================================================================================================================\")\n",
    "print('Confusion Matrix: TRAINING set based on random forest model built using 50 trees')\n",
    "train.data.predict <- predict(model_rf4, train.data, type = \"class\")\n",
    "\n",
    "# Construct the confusion matrix\n",
    "conf.matrix <- table(train.data$target, train.data.predict)[,c(\"0\",\"1\")]\n",
    "rownames(conf.matrix) <- paste(\"Actual\", rownames(conf.matrix), sep = \": \")\n",
    "colnames(conf.matrix) <- paste(\"Prediction\", colnames(conf.matrix), sep = \": \")\n",
    "\n",
    "# Print nicely formatted confusion matrix\n",
    "format(conf.matrix,justify=\"centre\",digit=2)\n",
    "\n",
    "\n",
    "print(\"======================================================================================================================\")\n",
    "print('Confusion Matrix: TESTING set based on random forest model built using 50 trees')\n",
    "test.data.predict <- predict(model_rf4, test.data, type = \"class\")\n",
    "\n",
    "# Construct the confusion matrix\n",
    "conf.matrix <- table(test.data$target, test.data.predict)[,c('0','1')]\n",
    "rownames(conf.matrix) <- paste(\"Actual\", rownames(conf.matrix), sep = \": \")\n",
    "colnames(conf.matrix) <- paste(\"Prediction\", colnames(conf.matrix), sep = \": \")\n",
    "\n",
    "# Print nicely formatted confusion matrix\n",
    "format(conf.matrix,justify=\"centre\",digit=2)\n"
   ]
  },
  {
   "cell_type": "markdown",
   "metadata": {},
   "source": [
    " "
   ]
  },
  {
   "cell_type": "markdown",
   "metadata": {
    "deletable": false,
    "editable": false
   },
   "source": [
    "## Random Forest Regression Model\n",
    "\n",
    "You have been asked to create a random forest regression model for maximum heart rate achieved using the variables age *(age)*, sex *(sex)*, chest pain type *(cp)*, resting blood pressure *(trestbps)*, cholesterol measurement *(chol)*, resting electrocardiographic measurement *(restecg)*, exercise-induced angina *(exang)*, slope of peak exercise *(slope)*, and number of major vessels *(ca)*. Before writing any code, review Section 6 of the Summary Report template to see the questions you will be answering about your model.\n",
    "\n",
    "Run your scripts to get the outputs of your analysis. Then use the outputs to answer the questions in your summary report.\n",
    "\n",
    "**Note: Use the + (plus) button to add new code blocks, if needed.**"
   ]
  },
  {
   "cell_type": "code",
   "execution_count": 16,
   "metadata": {},
   "outputs": [
    {
     "data": {
      "image/png": "[encoded data removed]",
      "text/plain": [
       "plot without title"
      ]
     },
     "metadata": {},
     "output_type": "display_data"
    }
   ],
   "source": [
    "#Graphing the Training and Testing Root Mean Squared Error against the Number of Trees\n",
    "set.seed(511038)\n",
    "library(randomForest)\n",
    "\n",
    "# Root mean squared error\n",
    "RMSE = function(pred, obs) {\n",
    "    return(sqrt( sum( (pred - obs)^2 )/length(pred) ) )\n",
    "}\n",
    "\n",
    "\n",
    "# checking\n",
    "#=====================================================================\n",
    "train = c()\n",
    "test = c()\n",
    "trees = c()\n",
    "\n",
    "for(i in seq(from=1, to=80, by=1)) {\n",
    "    trees <- c(trees, i)\n",
    "    model_rf7 <- randomForest(thalach ~ age+sex+cp+trestbps+chol+restecg+exang+slope+ca, data=train.data, ntree = i)\n",
    "    \n",
    "    pred <- predict(model_rf7, newdata=train.data, type='response')\n",
    "    rmse_train <-  RMSE(pred, train.data$thalach)\n",
    "    train <- c(train, rmse_train)\n",
    "    \n",
    "    pred <- predict(model_rf7, newdata=test.data, type='response')\n",
    "     rmse_test <-  RMSE(pred, test.data$thalach)\n",
    "    test <- c(test, rmse_test)\n",
    "}\n",
    " \n",
    "plot(trees, train,type = \"l\",ylim=c(0,50),col = \"red\", xlab = \"Number of Trees\", ylab = \"Root Mean Squared Error\")\n",
    "lines(test, type = \"l\", col = \"blue\")\n",
    "legend('topright',legend = c('training set','testing set'), col = c(\"red\",\"blue\"), lwd = 2 )"
   ]
  },
  {
   "cell_type": "code",
   "execution_count": 17,
   "metadata": {},
   "outputs": [
    {
     "name": "stdout",
     "output_type": "stream",
     "text": [
      "[1] \"======================================================================================================================\"\n",
      "[1] \"Root Mean Squared Error: TRAINING set based on random forest model built using 25 trees\"\n"
     ]
    },
    {
     "data": {
      "text/html": [
       "9.59788105063744"
      ],
      "text/latex": [
       "9.59788105063744"
      ],
      "text/markdown": [
       "9.59788105063744"
      ],
      "text/plain": [
       "[1] 9.597881"
      ]
     },
     "metadata": {},
     "output_type": "display_data"
    },
    {
     "name": "stdout",
     "output_type": "stream",
     "text": [
      "[1] \"======================================================================================================================\"\n",
      "[1] \"Root Mean Squared Error: TESTING set based on random forest model built using 25 trees\"\n"
     ]
    },
    {
     "data": {
      "text/html": [
       "18.2216133942281"
      ],
      "text/latex": [
       "18.2216133942281"
      ],
      "text/markdown": [
       "18.2216133942281"
      ],
      "text/plain": [
       "[1] 18.22161"
      ]
     },
     "metadata": {},
     "output_type": "display_data"
    }
   ],
   "source": [
    "set.seed(915839)\n",
    "library(randomForest)\n",
    "model_rf8 <- randomForest(thalach ~ age+sex+cp+trestbps+chol+restecg+exang+slope+ca, data=train.data, ntree = 25)\n",
    "\n",
    "\n",
    "# Root mean squared error\n",
    "RMSE = function(pred, obs) {\n",
    "    return(sqrt( sum( (pred - obs)^2 )/length(pred) ) )\n",
    "}\n",
    "\n",
    "print(\"======================================================================================================================\")\n",
    "print('Root Mean Squared Error: TRAINING set based on random forest model built using 25 trees')\n",
    "pred <- predict(model_rf8, newdata=train.data, type='response')\n",
    "RMSE(pred, train.data$thalach)\n",
    "\n",
    "\n",
    "print(\"======================================================================================================================\")\n",
    "print('Root Mean Squared Error: TESTING set based on random forest model built using 25 trees')\n",
    "pred <- predict(model_rf8, newdata=test.data, type='response')\n",
    "RMSE(pred, test.data$thalach)"
   ]
  },
  {
   "cell_type": "markdown",
   "metadata": {
    "deletable": false,
    "editable": false
   },
   "source": [
    "## End of Project Two Jupyter Notebook\n",
    "The HTML output can be downloaded by clicking **File**, then **Download as**, then **HTML**. Be sure to answer all of the questions in the Summary Report template for Project Two, and to include your completed Jupyter Notebook scripts as part of your submission."
   ]
  }
 ],
 "metadata": {
  "kernelspec": {
   "display_name": "R",
   "language": "R",
   "name": "ir"
  },
  "language_info": {
   "codemirror_mode": "r",
   "file_extension": ".r",
   "mimetype": "text/x-r-source",
   "name": "R",
   "pygments_lexer": "r",
   "version": "3.4.4"
  }
 },
 "nbformat": 4,
 "nbformat_minor": 2
}
